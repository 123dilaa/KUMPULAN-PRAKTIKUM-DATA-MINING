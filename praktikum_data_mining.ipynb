{
  "nbformat": 4,
  "nbformat_minor": 0,
  "metadata": {
    "colab": {
      "provenance": []
    },
    "kernelspec": {
      "name": "python3",
      "display_name": "Python 3"
    },
    "language_info": {
      "name": "python"
    }
  },
  "cells": [
    {
      "cell_type": "code",
      "execution_count": null,
      "metadata": {
        "id": "RmZktvAUKgk8",
        "colab": {
          "base_uri": "https://localhost:8080/"
        },
        "outputId": "108f0902-78f9-4da7-8705-df87189ef5dc"
      },
      "outputs": [
        {
          "output_type": "stream",
          "name": "stdout",
          "text": [
            "Object Creatio\n",
            "Series\n",
            "0    1.0\n",
            "1    3.0\n",
            "2    5.0\n",
            "3    NaN\n",
            "4    6.0\n",
            "5    8.0\n",
            "dtype: float64\n",
            "\\DataFrame:\n",
            "                   A         B         C         D\n",
            "2003-10-01 -0.742147 -0.292587 -0.282145 -0.448493\n",
            "2003-10-02  0.183931  1.831557  0.355402 -0.369124\n",
            "2003-10-03 -1.358886 -0.124804 -0.096750  0.294972\n",
            "2003-10-04  0.858638  0.756689  1.161933 -2.854154\n",
            "2003-10-05  1.053646  0.509292 -0.371955 -0.285246\n",
            "2003-10-06 -0.084369  0.371628  0.303426  0.036341\n",
            "==================================================\n"
          ]
        }
      ],
      "source": [
        "##object Creation\n",
        "import pandas as pd\n",
        "import numpy as np\n",
        "\n",
        "#object creation\n",
        "s = pd.Series ([1, 3, 5, np.nan, 6, 8])\n",
        "dates = pd.date_range ('2003-10-01', periods=6)\n",
        "df = pd.DataFrame(np.random.randn(6, 4), index=dates, columns=list('ABCD'))\n",
        "print('Object Creatio')\n",
        "print('Series')\n",
        "print(s)\n",
        "print('\\DataFrame:')\n",
        "print(df)\n",
        "print('='*50)\n",
        "\n",
        "\n",
        "\n",
        "\n",
        "\n"
      ]
    },
    {
      "cell_type": "code",
      "source": [
        "import pandas as pd\n",
        "import numpy as np\n",
        "\n",
        "#View Data\n",
        "\n",
        "print('Viewing Data:')\n",
        "print('First 3 rows:')\n",
        "print(df.head(3))\n",
        "print('n\\Last 2 rows:')\n",
        "print(df.tail(2))\n",
        "print('n\\Index and Columns:')\n",
        "print(df.index)\n",
        "print(df.columns)\n",
        "print('='*40)\n"
      ],
      "metadata": {
        "colab": {
          "base_uri": "https://localhost:8080/"
        },
        "id": "aROs7JamM_ET",
        "outputId": "66f8d854-2c35-4eba-d0d4-f606c5efc64b"
      },
      "execution_count": null,
      "outputs": [
        {
          "output_type": "stream",
          "name": "stdout",
          "text": [
            "Viewing Data:\n",
            "First 3 rows:\n",
            "                   A         B         C         D\n",
            "2003-10-01 -0.742147 -0.292587 -0.282145 -0.448493\n",
            "2003-10-02  0.183931  1.831557  0.355402 -0.369124\n",
            "2003-10-03 -1.358886 -0.124804 -0.096750  0.294972\n",
            "n\\Last 2 rows:\n",
            "                   A         B         C         D\n",
            "2003-10-05  1.053646  0.509292 -0.371955 -0.285246\n",
            "2003-10-06 -0.084369  0.371628  0.303426  0.036341\n",
            "n\\Index and Columns:\n",
            "DatetimeIndex(['2003-10-01', '2003-10-02', '2003-10-03', '2003-10-04',\n",
            "               '2003-10-05', '2003-10-06'],\n",
            "              dtype='datetime64[ns]', freq='D')\n",
            "Index(['A', 'B', 'C', 'D'], dtype='object')\n",
            "========================================\n"
          ]
        }
      ]
    },
    {
      "cell_type": "code",
      "source": [
        "import pandas as pd\n",
        "import numpy as np\n",
        "\n",
        "#selection\n",
        "print('Selection')\n",
        "print('Selecting a column (A):')\n",
        "print(df['A'])\n",
        "print('\\nSelecting by label (row 0):')\n",
        "print(df.loc[dates[0]])\n",
        "print('\\nSelecting by position (row 1):')\n",
        "print(df.iloc[1])\n",
        "print('\\nSelecting a subset of rows and columns:')\n",
        "print(df.loc[dates[1:3],['A', 'B']])\n",
        "print('='*40)"
      ],
      "metadata": {
        "colab": {
          "base_uri": "https://localhost:8080/"
        },
        "id": "pfS8mOKfRpx0",
        "outputId": "28520ec9-0dd1-4fe0-89a4-3c9aefc8d133"
      },
      "execution_count": null,
      "outputs": [
        {
          "output_type": "stream",
          "name": "stdout",
          "text": [
            "Selection\n",
            "Selecting a column (A):\n",
            "2003-10-01   -0.742147\n",
            "2003-10-02    0.183931\n",
            "2003-10-03   -1.358886\n",
            "2003-10-04    0.858638\n",
            "2003-10-05    1.053646\n",
            "2003-10-06   -0.084369\n",
            "Freq: D, Name: A, dtype: float64\n",
            "\n",
            "Selecting by label (row 0):\n",
            "A   -0.742147\n",
            "B   -0.292587\n",
            "C   -0.282145\n",
            "D   -0.448493\n",
            "Name: 2003-10-01 00:00:00, dtype: float64\n",
            "\n",
            "Selecting by position (row 1):\n",
            "A    0.183931\n",
            "B    1.831557\n",
            "C    0.355402\n",
            "D   -0.369124\n",
            "Name: 2003-10-02 00:00:00, dtype: float64\n",
            "\n",
            "Selecting a subset of rows and columns:\n",
            "                   A         B\n",
            "2003-10-02  0.183931  1.831557\n",
            "2003-10-03 -1.358886 -0.124804\n",
            "========================================\n"
          ]
        }
      ]
    },
    {
      "cell_type": "code",
      "source": [
        "import pandas as pd\n",
        "import numpy as np\n",
        "\n",
        "#missing Data\n",
        "df1 = df.reindex(index=dates[0:4], columns=list(df.columns) + ['E'])\n",
        "df1.loc[dates[0]:dates[1], 'E'] = 1\n",
        "\n",
        "print('Missing Data:')\n",
        "print('DataFrame with missing values:')\n",
        "print(df1)\n",
        "print('\\nDropping rows with missing values:')\n",
        "print(df1.dropna( ))\n",
        "print('\\nFilling missing values:')\n",
        "print(df1.fillna(value=0))\n",
        "print('='*40)"
      ],
      "metadata": {
        "colab": {
          "base_uri": "https://localhost:8080/"
        },
        "id": "3Fz5ecrjYq_7",
        "outputId": "4efab4e7-6367-4ca5-d092-7cc6f7fe9a26"
      },
      "execution_count": null,
      "outputs": [
        {
          "output_type": "stream",
          "name": "stdout",
          "text": [
            "Missing Data:\n",
            "DataFrame with missing values:\n",
            "                   A         B         C         D    E\n",
            "2003-10-01 -0.742147 -0.292587 -0.282145 -0.448493  1.0\n",
            "2003-10-02  0.183931  1.831557  0.355402 -0.369124  1.0\n",
            "2003-10-03 -1.358886 -0.124804 -0.096750  0.294972  NaN\n",
            "2003-10-04  0.858638  0.756689  1.161933 -2.854154  NaN\n",
            "\n",
            "Dropping rows with missing values:\n",
            "                   A         B         C         D    E\n",
            "2003-10-01 -0.742147 -0.292587 -0.282145 -0.448493  1.0\n",
            "2003-10-02  0.183931  1.831557  0.355402 -0.369124  1.0\n",
            "\n",
            "Filling missing values:\n",
            "                   A         B         C         D    E\n",
            "2003-10-01 -0.742147 -0.292587 -0.282145 -0.448493  1.0\n",
            "2003-10-02  0.183931  1.831557  0.355402 -0.369124  1.0\n",
            "2003-10-03 -1.358886 -0.124804 -0.096750  0.294972  0.0\n",
            "2003-10-04  0.858638  0.756689  1.161933 -2.854154  0.0\n",
            "========================================\n"
          ]
        }
      ]
    },
    {
      "cell_type": "code",
      "source": [
        "import pandas as pd\n",
        "import numpy as np\n",
        "\n",
        "#Operation\n",
        "#Operasi Menghitung Statistik Rata - Rata\n",
        "\n",
        "print('Operation:')\n",
        "print(\"Mean of each column:\")\n",
        "print(df.mean())\n",
        "print('\\nSum of each row:')\n",
        "print(df.sum(axis=1))\n",
        "print('='*40)"
      ],
      "metadata": {
        "colab": {
          "base_uri": "https://localhost:8080/"
        },
        "id": "taynoA_yZMn8",
        "outputId": "9c48e25f-8c03-47e8-e68e-c9b544da02bc"
      },
      "execution_count": null,
      "outputs": [
        {
          "output_type": "stream",
          "name": "stdout",
          "text": [
            "Operation:\n",
            "Mean of each column:\n",
            "A   -0.014865\n",
            "B    0.508629\n",
            "C    0.178318\n",
            "D   -0.604284\n",
            "dtype: float64\n",
            "\n",
            "Sum of each row:\n",
            "2003-10-01   -1.765372\n",
            "2003-10-02    2.001765\n",
            "2003-10-03   -1.285468\n",
            "2003-10-04   -0.076894\n",
            "2003-10-05    0.905737\n",
            "2003-10-06    0.627026\n",
            "Freq: D, dtype: float64\n",
            "========================================\n"
          ]
        }
      ]
    },
    {
      "cell_type": "code",
      "source": [
        "import pandas as pd\n",
        "import numpy as np\n",
        "\n",
        "#Merge\n",
        "#Menggabungkan dua DataFrame\n",
        "\n",
        "left = pd.DataFrame({'key':['K0', 'K1', 'K2', 'K3'], 'A':['A0', 'A1', 'A2', 'A3'],\n",
        "                     'B':['B0', 'B1', 'B2', 'B3']})\n",
        "right = pd.DataFrame({'key':['K0', 'K1', 'K2', 'K3'], 'C':['C0', 'C1', 'C2', 'C3'],\n",
        "                      'D':['D0', 'D1', 'D2', 'D3']})\n",
        "Merged_df = pd.merge(left, right, on='key')\n",
        "print('Merge:')\n",
        "print('Merged DataFrame:')\n",
        "print(Merged_df)\n",
        "print('='*40)\n",
        "\n"
      ],
      "metadata": {
        "colab": {
          "base_uri": "https://localhost:8080/"
        },
        "id": "cGpxwlQCZsAL",
        "outputId": "be8c8002-425b-42bd-a972-c4d22f8c02a3"
      },
      "execution_count": null,
      "outputs": [
        {
          "output_type": "stream",
          "name": "stdout",
          "text": [
            "Merge:\n",
            "Merged DataFrame:\n",
            "  key   A   B   C   D\n",
            "0  K0  A0  B0  C0  D0\n",
            "1  K1  A1  B1  C1  D1\n",
            "2  K2  A2  B2  C2  D2\n",
            "3  K3  A3  B3  C3  D3\n",
            "========================================\n"
          ]
        }
      ]
    },
    {
      "cell_type": "code",
      "source": [
        "import pandas as pd\n",
        "import numpy as np\n",
        "\n",
        "#mengelompokan data dan operasi agresi\n",
        "#Grouped\n",
        "\n",
        "grouped = df.groupby('A').sum()\n",
        "print('Grouping:')\n",
        "print('grouped DataFrame:')\n",
        "print(grouped)\n",
        "print('='*40)"
      ],
      "metadata": {
        "colab": {
          "base_uri": "https://localhost:8080/"
        },
        "id": "MZa35CTteuXc",
        "outputId": "c4f9262b-6e2e-4b5a-ddb6-ffde0f0df65c"
      },
      "execution_count": null,
      "outputs": [
        {
          "output_type": "stream",
          "name": "stdout",
          "text": [
            "Grouping:\n",
            "grouped DataFrame:\n",
            "                  B         C         D\n",
            "A                                      \n",
            "-1.358886 -0.124804 -0.096750  0.294972\n",
            "-0.742147 -0.292587 -0.282145 -0.448493\n",
            "-0.084369  0.371628  0.303426  0.036341\n",
            " 0.183931  1.831557  0.355402 -0.369124\n",
            " 0.858638  0.756689  1.161933 -2.854154\n",
            " 1.053646  0.509292 -0.371955 -0.285246\n",
            "========================================\n"
          ]
        }
      ]
    },
    {
      "cell_type": "code",
      "source": [
        "import pandas as pd\n",
        "import numpy as np\n",
        "\n",
        "#data time seeries\n",
        "#Menciptakan data time series menggunakan Pandas dan melakukan operasi time series\n",
        "#TIME SERIES\n",
        "\n",
        "ts = pd.Series(np.random.randn(1000), index=pd.date_range('2023-01-01', periods=1000))\n",
        "cumulaive_sum = ts.cumsum()\n",
        "\n",
        "print('Time Series:')\n",
        "print(ts.head())\n",
        "print('\\nCumulative_sum:')\n",
        "print(cumulaive_sum.head())\n",
        "print('='*40)"
      ],
      "metadata": {
        "colab": {
          "base_uri": "https://localhost:8080/"
        },
        "id": "GX-NKqRLfYM2",
        "outputId": "cc9258fa-ae46-4ad8-db53-3c977b94a0e2"
      },
      "execution_count": null,
      "outputs": [
        {
          "output_type": "stream",
          "name": "stdout",
          "text": [
            "Time Series:\n",
            "2023-01-01   -2.475439\n",
            "2023-01-02    0.119262\n",
            "2023-01-03    0.492266\n",
            "2023-01-04   -0.191017\n",
            "2023-01-05   -1.004669\n",
            "Freq: D, dtype: float64\n",
            "\n",
            "Cumulative_sum:\n",
            "2023-01-01   -2.475439\n",
            "2023-01-02   -2.356177\n",
            "2023-01-03   -1.863911\n",
            "2023-01-04   -2.054929\n",
            "2023-01-05   -3.059598\n",
            "Freq: D, dtype: float64\n",
            "========================================\n"
          ]
        }
      ]
    },
    {
      "cell_type": "code",
      "source": [
        "\n",
        "import numpy as np\n",
        "\n",
        "#Data Kategorikal\n",
        "#Membuat data kategorikal menggunakan Pandas dan melakukan operasi kategorikal\n",
        "\n",
        "#categoricals\n",
        "import pandas as pd\n",
        "\n",
        "#Create a categorial series\n",
        "s = pd.Series(['cat', 'dog', 'bird', 'cat', 'dog'], dtype='category')\n",
        "\n",
        "# define new categoris\n",
        "new_categories = ['Category 1', 'category 2', 'category 3']\n",
        "\n",
        "#Create a new categorial Series with the new categories\n",
        "s_new = s.cat.set_categories(new_categories)\n",
        "\n",
        "print('Categoricals:')\n",
        "print('Original Categorical Series:')\n",
        "print(s)\n",
        "print('\\nNew Categorical Series:')\n",
        "print(s_new)\n"
      ],
      "metadata": {
        "colab": {
          "base_uri": "https://localhost:8080/"
        },
        "id": "Y9ogbMIogC-U",
        "outputId": "c706a1f7-126a-4418-ceb5-852f0e6b3e02"
      },
      "execution_count": null,
      "outputs": [
        {
          "output_type": "stream",
          "name": "stdout",
          "text": [
            "Categoricals:\n",
            "Original Categorical Series:\n",
            "0     cat\n",
            "1     dog\n",
            "2    bird\n",
            "3     cat\n",
            "4     dog\n",
            "dtype: category\n",
            "Categories (3, object): ['bird', 'cat', 'dog']\n",
            "\n",
            "New Categorical Series:\n",
            "0    NaN\n",
            "1    NaN\n",
            "2    NaN\n",
            "3    NaN\n",
            "4    NaN\n",
            "dtype: category\n",
            "Categories (3, object): ['Category 1', 'category 2', 'category 3']\n"
          ]
        }
      ]
    },
    {
      "cell_type": "code",
      "source": [
        "#ploting\n",
        "#Membuat plot menggunakan Matplotlib dan melakukan operasi plot\n",
        "\n",
        "import matplotlib.pyplot as plt\n",
        "#ploting\n",
        "\n",
        "df.plot()\n",
        "plt.show()\n",
        "\n",
        "print('Plotting')\n",
        "print('='*40)\n",
        "\n",
        "\n"
      ],
      "metadata": {
        "colab": {
          "base_uri": "https://localhost:8080/",
          "height": 498
        },
        "id": "TFluoJmdhZRc",
        "outputId": "31290ed8-e40a-4dcb-b25b-4da778edbb27"
      },
      "execution_count": null,
      "outputs": [
        {
          "output_type": "display_data",
          "data": {
            "text/plain": [
              "<Figure size 640x480 with 1 Axes>"
            ],
            "image/png": "[encoded data removed]"
          },
          "metadata": {}
        },
        {
          "output_type": "stream",
          "name": "stdout",
          "text": [
            "Plotting\n",
            "========================================\n"
          ]
        }
      ]
    },
    {
      "cell_type": "code",
      "source": [
        "#Importing And Exporting Data\n",
        "#Membuat data menggunakan Pandas dan melakukan operasi import dan export data\n",
        "import pandas as pd\n",
        "imported_df = pd.read_csv('file _excel.csv')\n",
        "df = pd.DataFrame()\n",
        "\n",
        "print('Importing And Exporting Data')\n",
        "print('Exported DataFrame to CSV:')\n",
        "print(df)\n",
        "print('\\nImported Dataframe from CSV:')\n",
        "print(imported_df)\n",
        "print('='*40)\n",
        "df.to_csv('file _excel.csv')\n"
      ],
      "metadata": {
        "colab": {
          "base_uri": "https://localhost:8080/"
        },
        "id": "BUz9GxOLhyfW",
        "outputId": "dc19072b-3a69-4ae5-e13d-31c5f290b8f5"
      },
      "execution_count": null,
      "outputs": [
        {
          "output_type": "stream",
          "name": "stdout",
          "text": [
            "Importing And Exporting Data\n",
            "Exported DataFrame to CSV:\n",
            "Empty DataFrame\n",
            "Columns: []\n",
            "Index: []\n",
            "\n",
            "Imported Dataframe from CSV:\n",
            "     Gender  Height  Weight  Index\n",
            "0      Male     174      96      4\n",
            "1      Male     189      87      2\n",
            "2    Female     185     110      4\n",
            "3    Female     195     104      3\n",
            "4      Male     149      61      3\n",
            "..      ...     ...     ...    ...\n",
            "495  Female     150     153      5\n",
            "496  Female     184     121      4\n",
            "497  Female     141     136      5\n",
            "498    Male     150      95      5\n",
            "499    Male     173     131      5\n",
            "\n",
            "[500 rows x 4 columns]\n",
            "========================================\n"
          ]
        }
      ]
    },
    {
      "cell_type": "code",
      "source": [
        "from google.colab import drive\n",
        "drive.mount('/content/drive')"
      ],
      "metadata": {
        "id": "9kberfCsMqqG"
      },
      "execution_count": null,
      "outputs": []
    }
  ]
}