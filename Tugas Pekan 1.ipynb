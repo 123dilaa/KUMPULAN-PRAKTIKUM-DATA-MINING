{
  "nbformat": 4,
  "nbformat_minor": 0,
  "metadata": {
    "colab": {
      "provenance": []
    },
    "kernelspec": {
      "name": "python3",
      "display_name": "Python 3"
    },
    "language_info": {
      "name": "python"
    }
  },
  "cells": [
    {
      "cell_type": "code",
      "execution_count": null,
      "metadata": {
        "id": "eDL9ixHzpKGO",
        "colab": {
          "base_uri": "https://localhost:8080/"
        },
        "outputId": "851a6245-d0c5-402a-cd46-6c4e61b46fd8"
      },
      "outputs": [
        {
          "output_type": "stream",
          "name": "stdout",
          "text": [
            "     Gender  Height  Weight Index        BMI\n",
            "0      Male     174      96     4  31.708284\n",
            "1      Male     189      87     2  24.355421\n",
            "2    Female     185     110     4  32.140248\n",
            "3    Female     195     104     3  27.350427\n",
            "4      Male     149      61     3  27.476240\n",
            "..      ...     ...     ...   ...        ...\n",
            "495  Female     150     153     4  68.000000\n",
            "496  Female     184     121     4  35.739603\n",
            "497  Female     141     136     4  68.407022\n",
            "498    Male     150      95     4  42.222222\n",
            "499    Male     173     131     4  43.770256\n",
            "\n",
            "[500 rows x 5 columns]\n"
          ]
        }
      ],
      "source": [
        "#No1\n",
        "import pandas as pd\n",
        "#Fungsi Menghitung BMI\n",
        "def calculate_bmi(height_cm, weight_kg):\n",
        "  height_m = height_cm / 100 #konversi tinggi meter\n",
        "  bmi = weight_kg / (height_m ** 2) #rumusBmi\n",
        "  return bmi\n",
        "\n",
        "#untuk menentukan kategori index kesehatan\n",
        "def health_index(bmi):\n",
        "  if bmi < 16:\n",
        "    return 0 #Extremely Weak\n",
        "  elif 16 <= bmi < 18.5:\n",
        "    return 1 #Weak\n",
        "  elif 18.5 <= bmi < 25:\n",
        "    return 2 #Normal\n",
        "  elif 25 <= bmi < 30:\n",
        "    return 3 #Overweight\n",
        "  elif bmi >= 30:\n",
        "    return 4 #Obesity\n",
        "\n",
        "#membaca File CSV\n",
        "df = pd.read_csv('dataPeople.csv')\n",
        "\n",
        "#menghitung bmi dan menetukan index kesehatan\n",
        "df ['BMI'] = df.apply(lambda row: calculate_bmi(row['Height'], row['Weight']), axis=1)\n",
        "df ['Index'] = df['BMI'].apply(health_index)\n",
        "\n",
        "#menampilkan Hasil\n",
        "print(df)\n",
        "\n",
        "\n"
      ]
    },
    {
      "cell_type": "code",
      "source": [
        "#no2 Menamampilkan dan membaca seluruh data\n",
        "import pandas as pd\n",
        "df = pd.read_csv('dataPeople.csv')\n",
        "\n",
        "print(df)"
      ],
      "metadata": {
        "colab": {
          "base_uri": "https://localhost:8080/"
        },
        "id": "zO2zt-Km4QUy",
        "outputId": "444eeec6-98e1-42ef-bed9-89e0e5ff628f"
      },
      "execution_count": 9,
      "outputs": [
        {
          "output_type": "stream",
          "name": "stdout",
          "text": [
            "     Gender  Height  Weight  Index\n",
            "0      Male     174      96      4\n",
            "1      Male     189      87      2\n",
            "2    Female     185     110      4\n",
            "3    Female     195     104      3\n",
            "4      Male     149      61      3\n",
            "..      ...     ...     ...    ...\n",
            "495  Female     150     153      5\n",
            "496  Female     184     121      4\n",
            "497  Female     141     136      5\n",
            "498    Male     150      95      5\n",
            "499    Male     173     131      5\n",
            "\n",
            "[500 rows x 4 columns]\n"
          ]
        }
      ]
    },
    {
      "cell_type": "code",
      "source": [
        "#no3 fungsi statistik untuk menggunakan\n",
        "#Gunakan fungsistatistik untuk menghitung jumlah data, rata-rata,nilai maksimum,\n",
        "#nilai minimum, dari berat dan tinggi badan berdasarkan Gender\n",
        "\n",
        "import pandas as pd\n",
        "\n",
        "#membaca File csv\n",
        "df = pd.read_csv('dataPeople.csv')\n",
        "\n",
        "#mengelompokkan data berdasarkan gender dan menghitung data,\n",
        "#rata untuk height dan weight\n",
        "grouped_stats = df.groupby('Gender').agg({\n",
        "    'Height': ['count', 'mean', 'max', 'min'],\n",
        "    'Weight' : ['count', 'mean', 'max', 'min']\n",
        "})\n",
        "\n",
        "#Hasil\n",
        "print(grouped_stats)"
      ],
      "metadata": {
        "colab": {
          "base_uri": "https://localhost:8080/"
        },
        "id": "w6hQ0Agp43QU",
        "outputId": "0ffe4546-7f9b-4a5a-c0f1-4a4db955b148"
      },
      "execution_count": 14,
      "outputs": [
        {
          "output_type": "stream",
          "name": "stdout",
          "text": [
            "       Height                       Weight                     \n",
            "        count        mean  max  min  count        mean  max min\n",
            "Gender                                                         \n",
            "Female    255  170.227451  199  140    255  105.698039  160  50\n",
            "Male      245  169.648980  199  140    245  106.314286  160  50\n"
          ]
        }
      ]
    },
    {
      "cell_type": "code",
      "source": [
        "#no3\n",
        "#Ubah kolom gender menjadi data binary: Female – 0, Male – 1\n",
        "\n",
        "import pandas as pd\n",
        "df = pd.read_csv('dataPeople.csv')\n",
        "\n",
        "#Ubah kolom gender menjadi data binary: Female – 0, Male – 1\n",
        "df['Gender'] = df['Gender'].map({'Female': 0, 'Male': 1})\n",
        "\n",
        "print(df)\n"
      ],
      "metadata": {
        "colab": {
          "base_uri": "https://localhost:8080/"
        },
        "id": "t8mWqPct7ILV",
        "outputId": "66b411c4-a8db-44d7-e310-eec65e7b9e6a"
      },
      "execution_count": 16,
      "outputs": [
        {
          "output_type": "stream",
          "name": "stdout",
          "text": [
            "     Gender  Height  Weight  Index\n",
            "0         1     174      96      4\n",
            "1         1     189      87      2\n",
            "2         0     185     110      4\n",
            "3         0     195     104      3\n",
            "4         1     149      61      3\n",
            "..      ...     ...     ...    ...\n",
            "495       0     150     153      5\n",
            "496       0     184     121      4\n",
            "497       0     141     136      5\n",
            "498       1     150      95      5\n",
            "499       1     173     131      5\n",
            "\n",
            "[500 rows x 4 columns]\n"
          ]
        }
      ]
    },
    {
      "cell_type": "code",
      "source": [
        "#Tampilkan grafik Index BMI berdasarkan gender\n",
        "import pandas as pd\n",
        "import matplotlib.pyplot as plt\n",
        "\n",
        "df = pd.read_csv('dataPeople.csv')\n",
        "\n",
        "df ['BMI'] = df.apply(lambda row: calculate_bmi(row['Height'], row['Weight']), axis=1)\n",
        "df ['Index'] = df['BMI'].apply(health_index)\n",
        "\n",
        "\n",
        "#grup data\n",
        "gender_bmi = df.groupby('Gender')['BMI'].mean()\n",
        "\n",
        "#grafik\n",
        "gender_bmi.plot(kind='bar')\n",
        "plt.xlabel('Gender')\n",
        "plt.ylabel('BMI')\n",
        "plt.title('BMI by Gender')\n",
        "plt.show()"
      ],
      "metadata": {
        "colab": {
          "base_uri": "https://localhost:8080/",
          "height": 508
        },
        "id": "P256n2PC7g_u",
        "outputId": "fed6f085-7e74-4623-9e37-44a45042a796"
      },
      "execution_count": 17,
      "outputs": [
        {
          "output_type": "display_data",
          "data": {
            "text/plain": [
              "<Figure size 640x480 with 1 Axes>"
            ],
            "image/png": "[encoded data removed]"
          },
          "metadata": {}
        }
      ]
    }
  ]
}